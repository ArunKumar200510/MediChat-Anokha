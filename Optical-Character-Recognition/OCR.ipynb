import keras_ocr
import pandas as pd
import matplotlib.pyplot as plt
import spacy
img ='print.jpg'
pipeline = keras_ocr.pipeline.Pipeline()
value = pipeline.recognize([img])
df = pd.DataFrame(value[0],columns=["Text",'Size'])
text = ''
for i in df['Text']:
    text+=' '
    text+=i
print(text)
med7 = spacy.load("en_core_med7_lg")
options = {'ents': med7.pipe_labels['ner']}
doc = med7(text)
spacy.displacy.render(doc, style='ent', jupyter=True, options=options)
a = [(ent.text, ent.label_) for ent in doc.ents]
l=[]

result = []
for i in range(len(a)):
    if a[i][1] not in l:
        l.append(a[i][1])
        result.append(a[i][0])
print(l)
print(result)
for i in range(len(l)):
    print(l[i],"-->",result[i])
